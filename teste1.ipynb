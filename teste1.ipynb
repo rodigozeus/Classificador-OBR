{
 "cells": [
  {
   "cell_type": "code",
   "execution_count": 1,
   "id": "ff4093f7-ec26-4306-b907-8d4095fc52ba",
   "metadata": {},
   "outputs": [],
   "source": [
    "import cv2\n",
    "import os\n",
    "\n",
    "def preprocess_image(image_path):\n",
    "    image = cv2.imread(image_path)\n",
    "    image = cv2.resize(image, (224, 224))  # Redimensionar para 224x224\n",
    "    image = image / 255.0  # Normalizar para o intervalo [0, 1]\n",
    "    return image\n",
    "\n",
    "images = []\n",
    "labels = []\n",
    "for label in [\"direita\", \"esquerda\", \"frente\"]:\n",
    "    for image_path in os.listdir(f\"{label}\"):\n",
    "        image = preprocess_image(f\"{label}/{image_path}\")\n",
    "        images.append(image)\n",
    "        labels.append(label)"
   ]
  },
  {
   "cell_type": "code",
   "execution_count": 2,
   "id": "6d376953",
   "metadata": {},
   "outputs": [
    {
     "name": "stdout",
     "output_type": "stream",
     "text": [
      "Epoch 1/10\n",
      "\u001b[1m91/91\u001b[0m \u001b[32m━━━━━━━━━━━━━━━━━━━━\u001b[0m\u001b[37m\u001b[0m \u001b[1m30s\u001b[0m 312ms/step - accuracy: 0.6750 - loss: 1.3208 - val_accuracy: 0.7680 - val_loss: 0.5329\n",
      "Epoch 2/10\n",
      "\u001b[1m91/91\u001b[0m \u001b[32m━━━━━━━━━━━━━━━━━━━━\u001b[0m\u001b[37m\u001b[0m \u001b[1m28s\u001b[0m 309ms/step - accuracy: 0.8472 - loss: 0.3953 - val_accuracy: 0.7610 - val_loss: 0.5699\n",
      "Epoch 3/10\n",
      "\u001b[1m91/91\u001b[0m \u001b[32m━━━━━━━━━━━━━━━━━━━━\u001b[0m\u001b[37m\u001b[0m \u001b[1m28s\u001b[0m 306ms/step - accuracy: 0.8738 - loss: 0.3082 - val_accuracy: 0.7569 - val_loss: 0.6078\n",
      "Epoch 4/10\n",
      "\u001b[1m91/91\u001b[0m \u001b[32m━━━━━━━━━━━━━━━━━━━━\u001b[0m\u001b[37m\u001b[0m \u001b[1m29s\u001b[0m 314ms/step - accuracy: 0.9260 - loss: 0.2053 - val_accuracy: 0.7569 - val_loss: 0.8532\n",
      "Epoch 5/10\n",
      "\u001b[1m91/91\u001b[0m \u001b[32m━━━━━━━━━━━━━━━━━━━━\u001b[0m\u001b[37m\u001b[0m \u001b[1m28s\u001b[0m 312ms/step - accuracy: 0.9614 - loss: 0.1157 - val_accuracy: 0.7403 - val_loss: 0.9167\n",
      "Epoch 6/10\n",
      "\u001b[1m91/91\u001b[0m \u001b[32m━━━━━━━━━━━━━━━━━━━━\u001b[0m\u001b[37m\u001b[0m \u001b[1m28s\u001b[0m 306ms/step - accuracy: 0.9708 - loss: 0.0956 - val_accuracy: 0.7541 - val_loss: 0.9579\n",
      "Epoch 7/10\n",
      "\u001b[1m91/91\u001b[0m \u001b[32m━━━━━━━━━━━━━━━━━━━━\u001b[0m\u001b[37m\u001b[0m \u001b[1m27s\u001b[0m 300ms/step - accuracy: 0.9876 - loss: 0.0448 - val_accuracy: 0.7500 - val_loss: 1.1625\n",
      "Epoch 8/10\n",
      "\u001b[1m91/91\u001b[0m \u001b[32m━━━━━━━━━━━━━━━━━━━━\u001b[0m\u001b[37m\u001b[0m \u001b[1m28s\u001b[0m 308ms/step - accuracy: 0.9846 - loss: 0.0488 - val_accuracy: 0.7597 - val_loss: 1.2761\n",
      "Epoch 9/10\n",
      "\u001b[1m91/91\u001b[0m \u001b[32m━━━━━━━━━━━━━━━━━━━━\u001b[0m\u001b[37m\u001b[0m \u001b[1m29s\u001b[0m 319ms/step - accuracy: 0.9934 - loss: 0.0260 - val_accuracy: 0.7610 - val_loss: 1.4797\n",
      "Epoch 10/10\n",
      "\u001b[1m91/91\u001b[0m \u001b[32m━━━━━━━━━━━━━━━━━━━━\u001b[0m\u001b[37m\u001b[0m \u001b[1m28s\u001b[0m 306ms/step - accuracy: 0.9947 - loss: 0.0204 - val_accuracy: 0.7472 - val_loss: 1.4342\n"
     ]
    },
    {
     "data": {
      "text/plain": [
       "<keras.src.callbacks.history.History at 0x258267e5810>"
      ]
     },
     "execution_count": 2,
     "metadata": {},
     "output_type": "execute_result"
    }
   ],
   "source": [
    "import cv2\n",
    "import os\n",
    "import numpy as np\n",
    "from tensorflow.keras.models import Sequential\n",
    "from tensorflow.keras.layers import Conv2D, MaxPooling2D, Flatten, Dense, Input\n",
    "from tensorflow.keras.utils import to_categorical\n",
    "from sklearn.model_selection import train_test_split\n",
    "\n",
    "def preprocess_image(image_path):\n",
    "    image = cv2.imread(image_path)\n",
    "    image = cv2.resize(image, (224, 224))  # Redimensionar para 224x224\n",
    "    image = image / 255.0  # Normalizar para o intervalo [0, 1]\n",
    "    return image\n",
    "\n",
    "images = []\n",
    "labels = []\n",
    "label_to_index = {\"direita\": 0, \"esquerda\": 1, \"frente\": 2}\n",
    "\n",
    "for label in [\"direita\", \"esquerda\", \"frente\"]:\n",
    "    for image_path in os.listdir(f\"{label}\"):\n",
    "        if image_path.endswith('.jpg') or image_path.endswith('.png'):  # Adicione qualquer outra extensão de imagem que você esteja usando\n",
    "            image = preprocess_image(f\"{label}/{image_path}\")\n",
    "            images.append(image)\n",
    "            labels.append(label_to_index[label])  # Use o dicionário para converter o rótulo para um inteiro\n",
    "\n",
    "# Converter listas para arrays numpy\n",
    "images = np.array(images)\n",
    "labels = np.array(labels)\n",
    "\n",
    "# Codificar os rótulos como categorias\n",
    "labels = to_categorical(labels, num_classes=3)\n",
    "\n",
    "# Dividir os dados em conjuntos de treinamento e teste\n",
    "X_train, X_test, y_train, y_test = train_test_split(images, labels, test_size=0.2, random_state=42)\n",
    "\n",
    "# Construir o modelo\n",
    "model = Sequential([\n",
    "    Input(shape=(224, 224, 3)),  # Definir a forma da entrada aqui\n",
    "    Conv2D(32, (3, 3), activation='relu'),\n",
    "    MaxPooling2D((2, 2)),\n",
    "    Conv2D(64, (3, 3), activation='relu'),\n",
    "    MaxPooling2D((2, 2)),\n",
    "    Flatten(),\n",
    "    Dense(128, activation='relu'),\n",
    "    Dense(3, activation='softmax')  # 3 classes: direita, esquerda, frente\n",
    "])\n",
    "\n",
    "# Compilar o modelo\n",
    "model.compile(optimizer='adam',\n",
    "              loss='categorical_crossentropy',\n",
    "              metrics=['accuracy'])\n",
    "\n",
    "# Treinar o modelo\n",
    "model.fit(X_train, y_train, epochs=10, validation_data=(X_test, y_test))\n",
    "\n"
   ]
  },
  {
   "cell_type": "code",
   "execution_count": 4,
   "id": "44489c57",
   "metadata": {},
   "outputs": [],
   "source": [
    "# Salvar o modelo no formato Keras\n",
    "model.save('modelo_direcao.keras')"
   ]
  }
 ],
 "metadata": {
  "kernelspec": {
   "display_name": "Python 3 (ipykernel)",
   "language": "python",
   "name": "python3"
  },
  "language_info": {
   "codemirror_mode": {
    "name": "ipython",
    "version": 3
   },
   "file_extension": ".py",
   "mimetype": "text/x-python",
   "name": "python",
   "nbconvert_exporter": "python",
   "pygments_lexer": "ipython3",
   "version": "3.11.7"
  }
 },
 "nbformat": 4,
 "nbformat_minor": 5
}
