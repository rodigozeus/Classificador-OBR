{
 "cells": [
  {
   "cell_type": "code",
   "execution_count": 1,
   "id": "6d376953",
   "metadata": {},
   "outputs": [
    {
     "name": "stdout",
     "output_type": "stream",
     "text": [
      "\u001b[1m23/23\u001b[0m \u001b[32m━━━━━━━━━━━━━━━━━━━━\u001b[0m\u001b[37m\u001b[0m \u001b[1m2s\u001b[0m 59ms/step - accuracy: 0.7554 - loss: 0.5678\n",
      "Precisão do modelo no conjunto de teste: 75.69%\n"
     ]
    }
   ],
   "source": [
    "import cv2\n",
    "import os\n",
    "import numpy as np\n",
    "from tensorflow.keras.models import load_model\n",
    "from tensorflow.keras.utils import to_categorical\n",
    "from sklearn.model_selection import train_test_split\n",
    "\n",
    "def preprocess_image(image_path):\n",
    "    image = cv2.imread(image_path)\n",
    "    image = cv2.resize(image, (224, 224))  # Redimensionar para 224x224\n",
    "    image = image / 255.0  # Normalizar para o intervalo [0, 1]\n",
    "    return image\n",
    "\n",
    "# Preparar os dados novamente\n",
    "images = []\n",
    "labels = []\n",
    "label_to_index = {\"direita\": 0, \"esquerda\": 1, \"frente\": 2}\n",
    "\n",
    "for label in [\"direita\", \"esquerda\", \"frente\"]:\n",
    "    for image_path in os.listdir(f\"{label}\"):\n",
    "        if image_path.endswith('.jpg'):\n",
    "            image = preprocess_image(f\"{label}/{image_path}\")\n",
    "            images.append(image)\n",
    "            labels.append(label_to_index[label])\n",
    "\n",
    "# Converter listas para arrays numpy\n",
    "images = np.array(images)\n",
    "labels = np.array(labels)\n",
    "\n",
    "# Codificar os rótulos como categorias\n",
    "labels = to_categorical(labels, num_classes=3)\n",
    "\n",
    "# Dividir os dados em conjuntos de treinamento e teste\n",
    "X_train, X_test, y_train, y_test = train_test_split(images, labels, test_size=0.2, random_state=42)\n",
    "\n",
    "# Carregar o modelo salvo\n",
    "model = load_model('modelo_direcao.keras')\n",
    "\n",
    "# Avaliar o modelo em todo o conjunto de dados de teste\n",
    "loss, accuracy = model.evaluate(X_test, y_test)\n",
    "print(f\"Precisão do modelo no conjunto de teste: {accuracy * 100:.2f}%\")\n",
    "\n",
    "\n"
   ]
  }
 ],
 "metadata": {
  "kernelspec": {
   "display_name": "Python 3 (ipykernel)",
   "language": "python",
   "name": "python3"
  },
  "language_info": {
   "codemirror_mode": {
    "name": "ipython",
    "version": 3
   },
   "file_extension": ".py",
   "mimetype": "text/x-python",
   "name": "python",
   "nbconvert_exporter": "python",
   "pygments_lexer": "ipython3",
   "version": "3.11.7"
  }
 },
 "nbformat": 4,
 "nbformat_minor": 5
}
