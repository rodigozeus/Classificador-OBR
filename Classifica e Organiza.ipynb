{
 "cells": [
  {
   "cell_type": "markdown",
   "metadata": {},
   "source": [
    "### Classifica e Organiza\n",
    "\n",
    "Script para analisar todos os arquivos em uma pasta, classificar e colocar na pasta correta. (direita, esquerda, frente).\n",
    "\n",
    "Útil para curadoria automatizada."
   ]
  },
  {
   "cell_type": "code",
   "execution_count": 27,
   "metadata": {},
   "outputs": [],
   "source": [
    "import os\n",
    "import cv2\n",
    "import numpy as np\n",
    "import shutil\n",
    "from tensorflow.keras.models import load_model"
   ]
  },
  {
   "cell_type": "markdown",
   "metadata": {},
   "source": [
    "### Pré-processamento da imagem"
   ]
  },
  {
   "cell_type": "code",
   "execution_count": 28,
   "metadata": {},
   "outputs": [],
   "source": [
    "\n",
    "def preprocess_image(image_path):\n",
    "    image = cv2.imread(image_path)\n",
    "    image = cv2.resize(image, (160, 120))\n",
    "    image = image / 255.0\n",
    "    return image\n"
   ]
  },
  {
   "cell_type": "markdown",
   "metadata": {},
   "source": [
    "### Configurações"
   ]
  },
  {
   "cell_type": "code",
   "execution_count": 29,
   "metadata": {},
   "outputs": [],
   "source": [
    "\n",
    "# modelo\n",
    "model = load_model('modelo_direcao.keras')\n",
    "\n",
    "# imagens\n",
    "input_directory = 'fotos'\n",
    "\n",
    "# destino\n",
    "output_directories = {\n",
    "    0: 'fotos/direita',\n",
    "    1: 'fotos/esquerda',\n",
    "    2: 'fotos/frente'\n",
    "}\n",
    "\n",
    "for dir in output_directories.values():\n",
    "    os.makedirs(dir, exist_ok=True)\n"
   ]
  },
  {
   "cell_type": "markdown",
   "metadata": {},
   "source": [
    "### Função para não sobrescrever arquivos com o mesmo nome"
   ]
  },
  {
   "cell_type": "code",
   "execution_count": 30,
   "metadata": {},
   "outputs": [],
   "source": [
    "\n",
    "def get_unique_filename(directory, filename):\n",
    "    base, extension = os.path.splitext(filename)\n",
    "    counter = 1\n",
    "    new_filename = filename\n",
    "    while os.path.exists(os.path.join(directory, new_filename)):\n",
    "        new_filename = f\"{base}_{counter}{extension}\"\n",
    "        counter += 1\n",
    "    return new_filename\n"
   ]
  },
  {
   "cell_type": "markdown",
   "metadata": {},
   "source": [
    "### Classifica e organiza"
   ]
  },
  {
   "cell_type": "code",
   "execution_count": 31,
   "metadata": {},
   "outputs": [],
   "source": [
    "\n",
    "for image_name in os.listdir(input_directory):\n",
    "    if image_name.endswith('.jpg'):\n",
    "        image_path = os.path.join(input_directory, image_name)\n",
    "        image = preprocess_image(image_path)\n",
    "        image = np.expand_dims(image, axis=0)\n",
    "\n",
    "        prediction = model.predict(image)\n",
    "        class_index = np.argmax(prediction)\n",
    "\n",
    "        output_directory = output_directories[class_index]\n",
    "        unique_filename = get_unique_filename(output_directory, image_name)\n",
    "        output_path = os.path.join(output_directory, unique_filename)\n",
    "\n",
    "        shutil.move(image_path, output_path)\n",
    "        print(f\"Imagem {image_name} movida para {output_directory} como {unique_filename}\")\n"
   ]
  }
 ],
 "metadata": {
  "kernelspec": {
   "display_name": "base",
   "language": "python",
   "name": "python3"
  },
  "language_info": {
   "codemirror_mode": {
    "name": "ipython",
    "version": 3
   },
   "file_extension": ".py",
   "mimetype": "text/x-python",
   "name": "python",
   "nbconvert_exporter": "python",
   "pygments_lexer": "ipython3",
   "version": "3.11.7"
  }
 },
 "nbformat": 4,
 "nbformat_minor": 2
}
